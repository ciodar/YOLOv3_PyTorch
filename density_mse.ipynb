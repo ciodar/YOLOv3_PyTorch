{
 "cells": [
  {
   "cell_type": "code",
   "execution_count": 4,
   "metadata": {
    "collapsed": true
   },
   "outputs": [
    {
     "ename": "RuntimeError",
     "evalue": "Error(s) in loading state_dict for DensityNet:\n\tMissing key(s) in state_dict: \"conv1_batchnorm.weight\", \"conv1_batchnorm.bias\", \"conv1_batchnorm.running_mean\", \"conv1_batchnorm.running_var\", \"conv2.weight\", \"conv2.bias\", \"conv2_batchnorm.weight\", \"conv2_batchnorm.bias\", \"conv2_batchnorm.running_mean\", \"conv2_batchnorm.running_var\". ",
     "output_type": "error",
     "traceback": [
      "\u001B[1;31m---------------------------------------------------------------------------\u001B[0m",
      "\u001B[1;31mRuntimeError\u001B[0m                              Traceback (most recent call last)",
      "\u001B[1;32m<ipython-input-4-b9974c2af32e>\u001B[0m in \u001B[0;36m<module>\u001B[1;34m()\u001B[0m\n\u001B[0;32m      8\u001B[0m \u001B[1;33m\u001B[0m\u001B[0m\n\u001B[0;32m      9\u001B[0m \u001B[0mmodel\u001B[0m \u001B[1;33m=\u001B[0m \u001B[0mdensitynet\u001B[0m\u001B[1;33m.\u001B[0m\u001B[0mDensityNet\u001B[0m\u001B[1;33m(\u001B[0m\u001B[1;33m)\u001B[0m\u001B[1;33m\u001B[0m\u001B[1;33m\u001B[0m\u001B[0m\n\u001B[1;32m---> 10\u001B[1;33m \u001B[0mmodel\u001B[0m\u001B[1;33m.\u001B[0m\u001B[0mload_state_dict\u001B[0m\u001B[1;33m(\u001B[0m\u001B[0mtorch\u001B[0m\u001B[1;33m.\u001B[0m\u001B[0mload\u001B[0m\u001B[1;33m(\u001B[0m\u001B[1;34m'D:/weights/10_8_avg_simple_model.pt'\u001B[0m\u001B[1;33m,\u001B[0m\u001B[0mmap_location\u001B[0m\u001B[1;33m=\u001B[0m\u001B[1;34m\"cpu\"\u001B[0m\u001B[1;33m)\u001B[0m\u001B[1;33m)\u001B[0m\u001B[1;33m\u001B[0m\u001B[1;33m\u001B[0m\u001B[0m\n\u001B[0m\u001B[0;32m     11\u001B[0m \u001B[0moptions\u001B[0m \u001B[1;33m=\u001B[0m \u001B[0mread_data_cfg\u001B[0m\u001B[1;33m(\u001B[0m\u001B[1;34m'data/kaist_density.data'\u001B[0m\u001B[1;33m)\u001B[0m\u001B[1;33m\u001B[0m\u001B[1;33m\u001B[0m\u001B[0m\n\u001B[0;32m     12\u001B[0m \u001B[0mtrain_path\u001B[0m \u001B[1;33m=\u001B[0m \u001B[0mpl\u001B[0m\u001B[1;33m.\u001B[0m\u001B[0mPath\u001B[0m\u001B[1;33m(\u001B[0m\u001B[0moptions\u001B[0m\u001B[1;33m[\u001B[0m\u001B[1;34m'train'\u001B[0m\u001B[1;33m]\u001B[0m\u001B[1;33m)\u001B[0m\u001B[1;33m\u001B[0m\u001B[1;33m\u001B[0m\u001B[0m\n",
      "\u001B[1;32mC:\\Users\\DarioCioni\\anaconda3\\envs\\tesi_pytorch\\lib\\site-packages\\torch\\nn\\modules\\module.py\u001B[0m in \u001B[0;36mload_state_dict\u001B[1;34m(self, state_dict, strict)\u001B[0m\n\u001B[0;32m   1050\u001B[0m         \u001B[1;32mif\u001B[0m \u001B[0mlen\u001B[0m\u001B[1;33m(\u001B[0m\u001B[0merror_msgs\u001B[0m\u001B[1;33m)\u001B[0m \u001B[1;33m>\u001B[0m \u001B[1;36m0\u001B[0m\u001B[1;33m:\u001B[0m\u001B[1;33m\u001B[0m\u001B[1;33m\u001B[0m\u001B[0m\n\u001B[0;32m   1051\u001B[0m             raise RuntimeError('Error(s) in loading state_dict for {}:\\n\\t{}'.format(\n\u001B[1;32m-> 1052\u001B[1;33m                                self.__class__.__name__, \"\\n\\t\".join(error_msgs)))\n\u001B[0m\u001B[0;32m   1053\u001B[0m         \u001B[1;32mreturn\u001B[0m \u001B[0m_IncompatibleKeys\u001B[0m\u001B[1;33m(\u001B[0m\u001B[0mmissing_keys\u001B[0m\u001B[1;33m,\u001B[0m \u001B[0munexpected_keys\u001B[0m\u001B[1;33m)\u001B[0m\u001B[1;33m\u001B[0m\u001B[1;33m\u001B[0m\u001B[0m\n\u001B[0;32m   1054\u001B[0m \u001B[1;33m\u001B[0m\u001B[0m\n",
      "\u001B[1;31mRuntimeError\u001B[0m: Error(s) in loading state_dict for DensityNet:\n\tMissing key(s) in state_dict: \"conv1_batchnorm.weight\", \"conv1_batchnorm.bias\", \"conv1_batchnorm.running_mean\", \"conv1_batchnorm.running_var\", \"conv2.weight\", \"conv2.bias\", \"conv2_batchnorm.weight\", \"conv2_batchnorm.bias\", \"conv2_batchnorm.running_mean\", \"conv2_batchnorm.running_var\". "
     ]
    }
   ],
   "source": [
    "import pathlib as pl\n",
    "import numpy as np\n",
    "from utils import read_data_cfg\n",
    "from sklearn.metrics import mean_squared_error\n",
    "import density,densitynet\n",
    "import torch\n",
    "import torch.utils.data as D\n",
    "\n",
    "model = densitynet.DensityNet()\n",
    "model.load_state_dict(torch.load('D:/weights/10_8_avg_simple_model.pt',map_location=\"cpu\"))\n",
    "options = read_data_cfg('data/kaist_density.data')\n",
    "train_path = pl.Path(options['train'])\n",
    "valid_path = pl.Path(options['valid'])\n",
    "\n",
    "device = (torch.device('cuda') if torch.cuda.is_available()\n",
    "              else torch.device('cpu'))\n",
    "# train loader\n",
    "train_label_path = pl.Path.joinpath(train_path.parent, train_path.stem + '_labels' + train_path.suffix)\n",
    "t1 = torch.load(train_path, map_location=device)\n",
    "t1 = t1.reshape(8862, 1792, 8, 10)\n",
    "t2 = torch.load(train_label_path, map_location=device).reshape(8862)\n",
    "print(\"Loaded train features from {},labels from {}\".format(str(train_path),str(train_label_path)))\n",
    "trainset = list(zip(t1, t2))\n",
    "train_loader = D.DataLoader(trainset, batch_size=64,\n",
    "                            shuffle=True)\n",
    "valid_label_path = pl.Path.joinpath(valid_path.parent, valid_path.stem + '_labels' + valid_path.suffix)\n",
    "v1 = torch.load(valid_path, map_location=device)\n",
    "print(v1.shape)\n",
    "v1 = v1.reshape(1366, 1792, 8, 10)\n",
    "v2 = torch.load(valid_label_path, map_location=device).reshape(1366)\n",
    "print(\"Loaded lid features from {},labels from {}\".format(str(valid_path),str(valid_label_path)))\n",
    "valset = list(zip(v1, v2))\n",
    "valid_loader = torch.utils.data.DataLoader(valset, batch_size=64,\n",
    "                                             shuffle=False)\n",
    "predictions = density.evaluate(model,None,train_loader,valid_loader,device)\n",
    "\n",
    "train_predict = np.array(predictions['train'])\n",
    "train_predict = train_predict.reshape(2,train_predict.shape[1]).transpose()\n",
    "eval_predict = np.array(predictions['val'])\n",
    "eval_predict = eval_predict.reshape(2,eval_predict.shape[1]).transpose()"
   ]
  }
 ],
 "metadata": {
  "kernelspec": {
   "name": "pycharm-1ab8a525",
   "language": "python",
   "display_name": "PyCharm (YOLOv3_PyTorch)"
  },
  "language_info": {
   "codemirror_mode": {
    "name": "ipython",
    "version": 2
   },
   "file_extension": ".py",
   "mimetype": "text/x-python",
   "name": "python",
   "nbconvert_exporter": "python",
   "pygments_lexer": "ipython2",
   "version": "2.7.6"
  }
 },
 "nbformat": 4,
 "nbformat_minor": 0
}