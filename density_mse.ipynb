{
 "cells": [
  {
   "cell_type": "code",
   "execution_count": null,
   "metadata": {
    "collapsed": true,
    "pycharm": {
     "is_executing": true
    }
   },
   "outputs": [],
   "source": [
    "import pathlib as pl\n",
    "import numpy as np\n",
    "from sklearn.metrics import mean_squared_error\n",
    "\n",
    "train_predicts = np.load(pl.Path('D:/results/Feature extraction/flir dataset/fm_kaist_density_10_8_avg/mse_train_arr.npy'))\n",
    "valid_predicts = np.load(pl.Path('D:/results/Feature extraction/flir dataset/fm_kaist_density_10_8_avg/mse_valid_arr.npy'))\n",
    "train_mse = mean_squared_error(train_predicts[0],train_predicts[1])\n",
    "valid_mse = mean_squared_error(valid_predicts[0],valid_predicts[1])\n",
    "print(valid_mse)"
   ]
  }
 ],
 "metadata": {
  "kernelspec": {
   "name": "python3",
   "language": "python",
   "display_name": "Python 3"
  },
  "language_info": {
   "codemirror_mode": {
    "name": "ipython",
    "version": 2
   },
   "file_extension": ".py",
   "mimetype": "text/x-python",
   "name": "python",
   "nbconvert_exporter": "python",
   "pygments_lexer": "ipython2",
   "version": "2.7.6"
  }
 },
 "nbformat": 4,
 "nbformat_minor": 0
}